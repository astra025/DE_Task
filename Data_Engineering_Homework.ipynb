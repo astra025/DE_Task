{
 "cells": [
  {
   "cell_type": "markdown",
   "metadata": {
    "application/vnd.databricks.v1+cell": {
     "cellMetadata": {},
     "inputWidgets": {},
     "nuid": "4c751aeb-8432-4d2e-98cb-f4500c71c90a",
     "showTitle": false,
     "title": ""
    }
   },
   "source": [
    "### Define Test Data"
   ]
  },
  {
   "cell_type": "code",
   "execution_count": 0,
   "metadata": {
    "application/vnd.databricks.v1+cell": {
     "cellMetadata": {
      "byteLimit": 2048000,
      "rowLimit": 10000
     },
     "inputWidgets": {},
     "nuid": "82097a94-7b9c-4b24-bd36-d604748a9ea7",
     "showTitle": false,
     "title": ""
    }
   },
   "outputs": [],
   "source": [
    "# Test dataset\n",
    "\n",
    "import pandas as pd\n",
    "\n",
    "df_1 = pd.DataFrame(\n",
    "    data=[\n",
    "        ['A','a', 'x', 1],\n",
    "        ['A','b', 'x', 1],\n",
    "        ['A','c', 'x', 1],\n",
    "        ['B','a', 'x', 1],\n",
    "        ['B','b', 'x', 1],\n",
    "        ['B','c', 'x', 1],\n",
    "        ['A','a', 'y', 1],\n",
    "    ],\n",
    "    columns=['col_1', 'col_2', 'col_3', 'col_4']\n",
    ")"
   ]
  },
  {
   "cell_type": "markdown",
   "metadata": {
    "application/vnd.databricks.v1+cell": {
     "cellMetadata": {},
     "inputWidgets": {},
     "nuid": "227d22a1-6fd1-4cce-b682-0dd6fa195fea",
     "showTitle": false,
     "title": ""
    }
   },
   "source": [
    "### Function definition for duplicates"
   ]
  },
  {
   "cell_type": "code",
   "execution_count": 0,
   "metadata": {
    "application/vnd.databricks.v1+cell": {
     "cellMetadata": {
      "byteLimit": 2048000,
      "rowLimit": 10000
     },
     "inputWidgets": {},
     "nuid": "7feabda9-a41b-4092-ba2f-6a40afc7af74",
     "showTitle": false,
     "title": ""
    }
   },
   "outputs": [],
   "source": [
    "def duplicateChecker(df, columns):\n",
    "    try:\n",
    "        # Group by the specified columns and count the occurrences\n",
    "        grouped = df.groupby(columns).size().reset_index(name='Number of duplicates')\n",
    "        \n",
    "        # Filter out groups with only one occurrence (no duplicates)\n",
    "        duplicates = grouped[grouped['Number of duplicates'] > 1]\n",
    "\n",
    "        # Count the number of duplicate cases\n",
    "        count = duplicates.shape[0]\n",
    "        \n",
    "        if count>0:\n",
    "        # Return the result as a dictionary\n",
    "            result = {\n",
    "                'count': count,\n",
    "                'samples': duplicates\n",
    "            }\n",
    "            return result\n",
    "        else:\n",
    "            print(\"There are no duplicates for the selected criteria\")\n",
    "            return \"\"\n",
    "    \n",
    "    except Exception as error:\n",
    "        print(error)\n",
    "        return \"\" "
   ]
  },
  {
   "cell_type": "markdown",
   "metadata": {
    "application/vnd.databricks.v1+cell": {
     "cellMetadata": {},
     "inputWidgets": {},
     "nuid": "e242d9aa-3ae8-4f48-b13c-e0ca023dd28c",
     "showTitle": false,
     "title": ""
    }
   },
   "source": [
    "#### Call the function and test with different set of columns"
   ]
  },
  {
   "cell_type": "code",
   "execution_count": 0,
   "metadata": {
    "application/vnd.databricks.v1+cell": {
     "cellMetadata": {
      "byteLimit": 2048000,
      "rowLimit": 10000
     },
     "inputWidgets": {},
     "nuid": "22643e15-9caf-4362-a223-72ae7715cdf8",
     "showTitle": false,
     "title": ""
    }
   },
   "outputs": [
    {
     "output_type": "stream",
     "name": "stdout",
     "output_type": "stream",
     "text": [
      "Duplicates for cols1 :\n{'count': 2, 'samples':   col_1  Number of duplicates\n0     A                     4\n1     B                     3}\n\nDuplicates for cols2 :\n{'count': 1, 'samples':   col_1 col_2  Number of duplicates\n0     A     a                     2}\n\nDuplicates for cols3 :\nThere are no duplicates for the selected criteria\n\n\nDuplicates for cols4 :\nThere are no duplicates for the selected criteria\nOut[41]: ''"
     ]
    }
   ],
   "source": [
    "# Testing the function\n",
    "\n",
    "# Define the columns \n",
    "cols1 = ['col_1']\n",
    "cols2 = ['col_1', 'col_2']\n",
    "cols3 = ['col_1', 'col_2', 'col_3']\n",
    "cols4 = ['col_1', 'col_2', 'col_3','col_4']\n",
    "\n",
    "# Test Case 1\n",
    "print(\"Duplicates for cols1 :\")\n",
    "print(duplicateChecker(df_1, cols1))\n",
    "\n",
    "# Test Case 2\n",
    "print(\"\\nDuplicates for cols2 :\")\n",
    "print(duplicateChecker(df_1, cols2))\n",
    "\n",
    "# Test Case 3\n",
    "print(\"\\nDuplicates for cols3 :\")\n",
    "print(duplicateChecker(df_1, cols3))\n",
    "\n",
    "# Test Case 4\n",
    "print(\"\\nDuplicates for cols4 :\")\n",
    "duplicateChecker(df_1, cols4)"
   ]
  },
  {
   "cell_type": "markdown",
   "metadata": {
    "application/vnd.databricks.v1+cell": {
     "cellMetadata": {},
     "inputWidgets": {},
     "nuid": "97a7fcc2-3a22-4e9d-8a1b-630d9c8627fa",
     "showTitle": false,
     "title": ""
    }
   },
   "source": [
    "#### Error handling testing"
   ]
  },
  {
   "cell_type": "code",
   "execution_count": 0,
   "metadata": {
    "application/vnd.databricks.v1+cell": {
     "cellMetadata": {
      "byteLimit": 2048000,
      "rowLimit": 10000
     },
     "inputWidgets": {},
     "nuid": "a2692e67-9567-4813-93e1-ba3d2a2948b1",
     "showTitle": false,
     "title": ""
    }
   },
   "outputs": [
    {
     "output_type": "stream",
     "name": "stdout",
     "output_type": "stream",
     "text": [
      "'col_5'\nOut[46]: ''"
     ]
    }
   ],
   "source": [
    "\n",
    "#Pass extra unknown column\n",
    "cols5 =['col_1', 'col_2', 'col_3','col_4', 'col_5']\n",
    "duplicateChecker(df_1, cols5)"
   ]
  }
 ],
 "metadata": {
  "application/vnd.databricks.v1+notebook": {
   "dashboards": [],
   "environmentMetadata": null,
   "language": "python",
   "notebookMetadata": {
    "pythonIndentUnit": 4
   },
   "notebookName": "Data Engineering Homework",
   "widgets": {}
  }
 },
 "nbformat": 4,
 "nbformat_minor": 0
}
